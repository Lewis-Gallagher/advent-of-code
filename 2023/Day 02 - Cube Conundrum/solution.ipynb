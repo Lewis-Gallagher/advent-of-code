{
 "cells": [
  {
   "cell_type": "code",
   "execution_count": 1,
   "metadata": {},
   "outputs": [],
   "source": [
    "import re"
   ]
  },
  {
   "cell_type": "code",
   "execution_count": 6,
   "metadata": {},
   "outputs": [],
   "source": [
    "test_input = \"\"\"\\\n",
    "Game 1: 3 blue, 4 red; 1 red, 2 green, 6 blue; 2 green\n",
    "Game 2: 1 blue, 2 green; 3 green, 4 blue, 1 red; 1 green, 1 blue\n",
    "Game 3: 8 green, 6 blue, 20 red; 5 blue, 4 red, 13 green; 5 green, 1 red\n",
    "Game 4: 1 green, 3 red, 6 blue; 3 green, 6 red; 3 green, 15 blue, 14 red\n",
    "Game 5: 6 red, 1 blue, 3 green; 2 blue, 1 red, 2 green\n",
    "\"\"\"\n",
    "\n",
    "data = test_input.splitlines()"
   ]
  },
  {
   "cell_type": "code",
   "execution_count": 41,
   "metadata": {},
   "outputs": [
    {
     "name": "stdout",
     "output_type": "stream",
     "text": [
      "1\n",
      "2\n",
      "3\n",
      "4\n",
      "5\n"
     ]
    }
   ],
   "source": [
    "d = dict()\n",
    "\n",
    "for i in test_input.splitlines():\n",
    "    match = re.match(r\"Game (\\d+)\", i)\n",
    "    game_num = match.group(1)\n",
    "    print(game_num)\n",
    "    cubes = re.findall(r'(\\d)\\W(\\w+)', i)\n",
    "\n"
   ]
  },
  {
   "cell_type": "code",
   "execution_count": 55,
   "metadata": {},
   "outputs": [
    {
     "name": "stdout",
     "output_type": "stream",
     "text": [
      "{1: [('3', 'blue'), ('4', 'red'), ('1', 'red'), ('2', 'green'), ('6', 'blue'), ('2', 'green')], 2: [('1', 'blue'), ('2', 'green'), ('3', 'green'), ('4', 'blue'), ('1', 'red'), ('1', 'green'), ('1', 'blue')], 3: [('8', 'green'), ('6', 'blue'), ('20', 'red'), ('5', 'blue'), ('4', 'red'), ('13', 'green'), ('5', 'green'), ('1', 'red')], 4: [('1', 'green'), ('3', 'red'), ('6', 'blue'), ('3', 'green'), ('6', 'red'), ('3', 'green'), ('15', 'blue'), ('14', 'red')], 5: [('6', 'red'), ('1', 'blue'), ('3', 'green'), ('2', 'blue'), ('1', 'red'), ('2', 'green')]}\n",
      "{'red': 12, 'green': 13, 'blue': 14}\n"
     ]
    }
   ],
   "source": [
    "games = {int(re.match(r\"Game (\\d+)\", i).group(1)): re.findall(r'(\\d+)\\W(\\w+)', i) for i in test_input.splitlines()}\n",
    "possible = {'red':12, 'green':13, 'blue':14}\n",
    "\n",
    "print(games)\n",
    "print(possible)"
   ]
  },
  {
   "cell_type": "code",
   "execution_count": 31,
   "metadata": {},
   "outputs": [],
   "source": [
    "game = re.compile(r\"Game (\\d+)\")\n",
    "cubes = re.compile(r\"(?P<count>\\d+)\\W(?P<colour>\\w+)\")\n"
   ]
  },
  {
   "cell_type": "code",
   "execution_count": 46,
   "metadata": {},
   "outputs": [
    {
     "name": "stdout",
     "output_type": "stream",
     "text": [
      "Game 1: 3 blue, 4 red; 1 red, 2 green, 6 blue; 2 green\n"
     ]
    },
    {
     "ename": "TypeError",
     "evalue": "expected string or bytes-like object, got 'list'",
     "output_type": "error",
     "traceback": [
      "\u001b[0;31m---------------------------------------------------------------------------\u001b[0m",
      "\u001b[0;31mTypeError\u001b[0m                                 Traceback (most recent call last)",
      "\u001b[1;32m/Users/lgallagher/Projects/advent-of-code/2023/Day 02 - Cube Conundrum/solution.ipynb Cell 6\u001b[0m line \u001b[0;36m8\n\u001b[1;32m      <a href='vscode-notebook-cell:/Users/lgallagher/Projects/advent-of-code/2023/Day%2002%20-%20Cube%20Conundrum/solution.ipynb#X10sZmlsZQ%3D%3D?line=5'>6</a>\u001b[0m \u001b[39mprint\u001b[39m(data[i])\n\u001b[1;32m      <a href='vscode-notebook-cell:/Users/lgallagher/Projects/advent-of-code/2023/Day%2002%20-%20Cube%20Conundrum/solution.ipynb#X10sZmlsZQ%3D%3D?line=6'>7</a>\u001b[0m match \u001b[39m=\u001b[39m cubes\u001b[39m.\u001b[39mfindall(data[i])\n\u001b[0;32m----> <a href='vscode-notebook-cell:/Users/lgallagher/Projects/advent-of-code/2023/Day%2002%20-%20Cube%20Conundrum/solution.ipynb#X10sZmlsZQ%3D%3D?line=7'>8</a>\u001b[0m d[i] \u001b[39m=\u001b[39m [x\u001b[39m.\u001b[39mgroupdict() \u001b[39mfor\u001b[39;00m x \u001b[39min\u001b[39;00m cubes\u001b[39m.\u001b[39;49mfinditer(match)]\n",
      "\u001b[0;31mTypeError\u001b[0m: expected string or bytes-like object, got 'list'"
     ]
    }
   ],
   "source": [
    "d = {int(re.match(r\"Game (\\d+)\", i).group(1)): {} for i in test_input.splitlines()}\n",
    "\n",
    "data = test_input.splitlines()\n",
    "\n",
    "for i in range(len(data)):\n",
    "    print(data[i])\n",
    "    match = cubes.findall(data[i])\n",
    "    d[i] = [x.groupdict() for x in cubes.finditer(match)]"
   ]
  },
  {
   "cell_type": "code",
   "execution_count": 107,
   "metadata": {},
   "outputs": [
    {
     "data": {
      "text/plain": [
       "[('3', 'blue'),\n",
       " ('4', 'red'),\n",
       " ('1', 'red'),\n",
       " ('2', 'green'),\n",
       " ('6', 'blue'),\n",
       " ('2', 'green')]"
      ]
     },
     "execution_count": 107,
     "metadata": {},
     "output_type": "execute_result"
    }
   ],
   "source": [
    "match"
   ]
  },
  {
   "cell_type": "code",
   "execution_count": 3,
   "metadata": {},
   "outputs": [],
   "source": [
    "d = {int(re.match(r\"Game (\\d+)\", i).group(1)): re.findall(r'(\\d+)\\W(\\w+)', i) for i in test_input.splitlines()}"
   ]
  },
  {
   "cell_type": "code",
   "execution_count": 23,
   "metadata": {},
   "outputs": [
    {
     "data": {
      "text/plain": [
       "['1', '2', '3', '4', '5']"
      ]
     },
     "execution_count": 23,
     "metadata": {},
     "output_type": "execute_result"
    }
   ],
   "source": [
    "[game.match(data[i]).group(1) for i in range(len(data))]\n"
   ]
  },
  {
   "cell_type": "code",
   "execution_count": 47,
   "metadata": {},
   "outputs": [
    {
     "data": {
      "text/plain": [
       "[{'1': {'count': '2', 'colour': 'green'}},\n",
       " {'2': {'count': '1', 'colour': 'blue'}},\n",
       " {'3': {'count': '1', 'colour': 'red'}},\n",
       " {'4': {'count': '14', 'colour': 'red'}},\n",
       " {'5': {'count': '2', 'colour': 'green'}}]"
      ]
     },
     "execution_count": 47,
     "metadata": {},
     "output_type": "execute_result"
    }
   ],
   "source": [
    "[{game.match(line).group(1): m.groupdict() for m in cubes.finditer(line)} for line in data]"
   ]
  },
  {
   "cell_type": "code",
   "execution_count": 44,
   "metadata": {},
   "outputs": [
    {
     "data": {
      "text/plain": [
       "['Game 1: 3 blue, 4 red; 1 red, 2 green, 6 blue; 2 green',\n",
       " 'Game 2: 1 blue, 2 green; 3 green, 4 blue, 1 red; 1 green, 1 blue',\n",
       " 'Game 3: 8 green, 6 blue, 20 red; 5 blue, 4 red, 13 green; 5 green, 1 red',\n",
       " 'Game 4: 1 green, 3 red, 6 blue; 3 green, 6 red; 3 green, 15 blue, 14 red',\n",
       " 'Game 5: 6 red, 1 blue, 3 green; 2 blue, 1 red, 2 green']"
      ]
     },
     "execution_count": 44,
     "metadata": {},
     "output_type": "execute_result"
    }
   ],
   "source": [
    "data"
   ]
  },
  {
   "cell_type": "code",
   "execution_count": 87,
   "metadata": {},
   "outputs": [
    {
     "data": {
      "text/plain": [
       "['Game 1', ' 3 blue, 4 red', ' 1 red, 2 green, 6 blue', ' 2 green']"
      ]
     },
     "execution_count": 87,
     "metadata": {},
     "output_type": "execute_result"
    }
   ],
   "source": [
    "m = re.compile(r\"((\\d+\\s\\w+\\S)+)(?:\\n)?\")\n",
    "line = re.split(r\"\\;|\\:\", data[0])\n",
    "line"
   ]
  },
  {
   "cell_type": "code",
   "execution_count": 93,
   "metadata": {},
   "outputs": [
    {
     "data": {
      "text/plain": [
       "['Game', ':', ' blue,', ' red;', ' red,', ' green,', ' blue;', ' green']"
      ]
     },
     "execution_count": 93,
     "metadata": {},
     "output_type": "execute_result"
    }
   ],
   "source": [
    "line = re.split(r\"\\s(?=\\d+)\\w\\b\", data[0])\n",
    "line"
   ]
  },
  {
   "cell_type": "code",
   "execution_count": 100,
   "metadata": {},
   "outputs": [
    {
     "data": {
      "text/plain": [
       "{'Game': '1: 3 blue, 4 red; 1 red, 2 green, 6 blue; 2 green'}"
      ]
     },
     "execution_count": 100,
     "metadata": {},
     "output_type": "execute_result"
    }
   ],
   "source": [
    "dict(data[0].split(' ', 1) for i in data[0].split('; '))"
   ]
  },
  {
   "cell_type": "code",
   "execution_count": 102,
   "metadata": {},
   "outputs": [
    {
     "data": {
      "text/plain": [
       "[('3', 'blue'),\n",
       " ('4', 'red'),\n",
       " ('1', 'red'),\n",
       " ('2', 'green'),\n",
       " ('6', 'blue'),\n",
       " ('2', 'green')]"
      ]
     },
     "execution_count": 102,
     "metadata": {},
     "output_type": "execute_result"
    }
   ],
   "source": [
    "cubes.findall(data[0])"
   ]
  },
  {
   "cell_type": "code",
   "execution_count": 120,
   "metadata": {},
   "outputs": [
    {
     "name": "stdout",
     "output_type": "stream",
     "text": [
      "{1: [('3', 'blue'), ('4', 'red'), ('1', 'red'), ('2', 'green'), ('6', 'blue'), ('2', 'green')], 2: [('1', 'blue'), ('2', 'green'), ('3', 'green'), ('4', 'blue'), ('1', 'red'), ('1', 'green'), ('1', 'blue')], 3: [('8', 'green'), ('6', 'blue'), ('20', 'red'), ('5', 'blue'), ('4', 'red'), ('13', 'green'), ('5', 'green'), ('1', 'red')], 4: [('1', 'green'), ('3', 'red'), ('6', 'blue'), ('3', 'green'), ('6', 'red'), ('3', 'green'), ('15', 'blue'), ('14', 'red')], 5: [('6', 'red'), ('1', 'blue'), ('3', 'green'), ('2', 'blue'), ('1', 'red'), ('2', 'green')]}\n",
      "{'red': 12, 'green': 13, 'blue': 14}\n"
     ]
    }
   ],
   "source": [
    "games = {int(game.match(i).group(1)): cubes.findall(i) for i in data}\n",
    "possible = {'red':12, 'green':13, 'blue':14}\n",
    "\n",
    "print(games)\n",
    "print(possible)"
   ]
  },
  {
   "cell_type": "code",
   "execution_count": 111,
   "metadata": {},
   "outputs": [
    {
     "name": "stdout",
     "output_type": "stream",
     "text": [
      "1 {('3', 'blue'): ('4', 'red')}\n",
      "2 {('1', 'blue'): ('2', 'green')}\n",
      "3 {('8', 'green'): ('6', 'blue')}\n",
      "4 {('1', 'green'): ('3', 'red')}\n",
      "5 {('6', 'red'): ('1', 'blue')}\n"
     ]
    }
   ],
   "source": [
    "for k, v in games.items():\n",
    "    print(k,v)"
   ]
  },
  {
   "cell_type": "code",
   "execution_count": 207,
   "metadata": {},
   "outputs": [
    {
     "name": "stdout",
     "output_type": "stream",
     "text": [
      "1\n",
      "[('3', 'blue'), ('4', 'red')]\n",
      "[('1', 'red'), ('2', 'green'), ('6', 'blue')]\n",
      "[('2', 'green')]\n",
      "2\n",
      "[('1', 'blue'), ('2', 'green')]\n",
      "[('3', 'green'), ('4', 'blue'), ('1', 'red')]\n",
      "[('1', 'green'), ('1', 'blue')]\n",
      "3\n",
      "[('8', 'green'), ('6', 'blue'), ('20', 'red')]\n",
      "[('5', 'blue'), ('4', 'red'), ('13', 'green')]\n",
      "[('5', 'green'), ('1', 'red')]\n",
      "4\n",
      "[('1', 'green'), ('3', 'red'), ('6', 'blue')]\n",
      "[('3', 'green'), ('6', 'red')]\n",
      "[('3', 'green'), ('15', 'blue'), ('14', 'red')]\n",
      "5\n",
      "[('6', 'red'), ('1', 'blue'), ('3', 'green')]\n",
      "[('2', 'blue'), ('1', 'red'), ('2', 'green')]\n"
     ]
    }
   ],
   "source": [
    "possible_games = set()\n",
    "\n",
    "for game in data:\n",
    "\n",
    "    # Seperate game and cubes.\n",
    "    num, cubes = game.split(': ')\n",
    "\n",
    "    num = int(num.split(' ')[-1])\n",
    "    print(num)\n",
    "    possible_games.add(num)\n",
    "\n",
    "    # Seperate hands of cubes.\n",
    "    groups = cubes.split('; ')\n",
    "\n",
    "    # Get tupples of counts and colours.\n",
    "    for hand in groups:\n",
    "        hand_counts = re.findall(r\"(\\d+)\\s(\\w+)\", hand)\n",
    "        print(hand_counts)\n",
    "\n",
    "        # Check if the colour count exceeds the maximum.\n",
    "        for c in hand_counts:\n",
    "            if int(c[0]) > possible.get(c[1]):\n",
    "                possible_games.discard(num)\n",
    "\n",
    "        \n",
    "            \n",
    "        \n",
    "\n"
   ]
  },
  {
   "cell_type": "code",
   "execution_count": 209,
   "metadata": {},
   "outputs": [
    {
     "data": {
      "text/plain": [
       "8"
      ]
     },
     "execution_count": 209,
     "metadata": {},
     "output_type": "execute_result"
    }
   ],
   "source": [
    "sum(possible_games)"
   ]
  },
  {
   "cell_type": "code",
   "execution_count": 196,
   "metadata": {},
   "outputs": [
    {
     "data": {
      "text/plain": [
       "13"
      ]
     },
     "execution_count": 196,
     "metadata": {},
     "output_type": "execute_result"
    }
   ],
   "source": [
    "possible.get(c[1])"
   ]
  },
  {
   "cell_type": "code",
   "execution_count": 197,
   "metadata": {},
   "outputs": [],
   "source": [
    "possible_games = set()\n",
    "possible_games.add(1)"
   ]
  },
  {
   "cell_type": "code",
   "execution_count": 210,
   "metadata": {},
   "outputs": [
    {
     "data": {
      "text/plain": [
       "['Game 1: 3 blue, 4 red; 1 red, 2 green, 6 blue; 2 green',\n",
       " 'Game 2: 1 blue, 2 green; 3 green, 4 blue, 1 red; 1 green, 1 blue',\n",
       " 'Game 3: 8 green, 6 blue, 20 red; 5 blue, 4 red, 13 green; 5 green, 1 red',\n",
       " 'Game 4: 1 green, 3 red, 6 blue; 3 green, 6 red; 3 green, 15 blue, 14 red',\n",
       " 'Game 5: 6 red, 1 blue, 3 green; 2 blue, 1 red, 2 green']"
      ]
     },
     "execution_count": 210,
     "metadata": {},
     "output_type": "execute_result"
    }
   ],
   "source": [
    "data"
   ]
  },
  {
   "cell_type": "code",
   "execution_count": 248,
   "metadata": {},
   "outputs": [
    {
     "name": "stdout",
     "output_type": "stream",
     "text": [
      "2286\n"
     ]
    }
   ],
   "source": [
    "import numpy as np\n",
    "lookup = {'red':12, 'green':13, 'blue':14}\n",
    "possible_games = set()\n",
    "powers = []\n",
    "\n",
    "for game in data:\n",
    "\n",
    "    need_cubes = {'red':0, 'blue':0, 'green':0}\n",
    "\n",
    "    # Seperate game and cubes.\n",
    "    num, cubes = game.split(': ')\n",
    "\n",
    "    num = int(num.split(' ')[-1])\n",
    "    possible_games.add(num)\n",
    "\n",
    "    # Seperate hands of cubes.\n",
    "    hands = cubes.split('; ')\n",
    "\n",
    "    # Get tupples of counts and colours.\n",
    "    for h in hands:\n",
    "        count_cols = re.findall(r\"(\\d+)\\s(\\w+)\", h)\n",
    "\n",
    "        for c in count_cols:\n",
    "\n",
    "            if int(c[0]) > need_cubes.get(c[1]):\n",
    "                need_cubes[c[1]] = int(c[0])\n",
    "\n",
    "    # Product of a list with a zero will be zero. Filter them.\n",
    "    to_power = [i for i in list(need_cubes.values()) if i != 0]\n",
    "    powers.append(np.prod(to_power))\n",
    "    \n",
    "print(sum(powers))"
   ]
  },
  {
   "cell_type": "code",
   "execution_count": 224,
   "metadata": {},
   "outputs": [],
   "source": [
    "need_cubes = {'red':0, 'blue':0, 'green':0}\n"
   ]
  },
  {
   "cell_type": "code",
   "execution_count": 225,
   "metadata": {},
   "outputs": [
    {
     "data": {
      "text/plain": [
       "True"
      ]
     },
     "execution_count": 225,
     "metadata": {},
     "output_type": "execute_result"
    }
   ],
   "source": [
    "int(c[0]) > need_cubes.get(c[1])"
   ]
  },
  {
   "cell_type": "code",
   "execution_count": 230,
   "metadata": {},
   "outputs": [],
   "source": [
    "need_cubes[c[1]] = c[0]"
   ]
  },
  {
   "cell_type": "code",
   "execution_count": 232,
   "metadata": {},
   "outputs": [],
   "source": [
    "need_cubes = {'red': 22, 'blue': 4, 'green': 2}"
   ]
  },
  {
   "cell_type": "code",
   "execution_count": 238,
   "metadata": {},
   "outputs": [
    {
     "data": {
      "text/plain": [
       "176"
      ]
     },
     "execution_count": 238,
     "metadata": {},
     "output_type": "execute_result"
    }
   ],
   "source": [
    "import numpy as np\n",
    "np.prod(list(need_cubes.values()))"
   ]
  },
  {
   "cell_type": "code",
   "execution_count": 236,
   "metadata": {},
   "outputs": [
    {
     "data": {
      "text/plain": [
       "dict_values([22, 4, 2])"
      ]
     },
     "execution_count": 236,
     "metadata": {},
     "output_type": "execute_result"
    }
   ],
   "source": [
    "need_cubes.values()"
   ]
  },
  {
   "cell_type": "code",
   "execution_count": 249,
   "metadata": {},
   "outputs": [
    {
     "data": {
      "text/plain": [
       "0"
      ]
     },
     "execution_count": 249,
     "metadata": {},
     "output_type": "execute_result"
    }
   ],
   "source": [
    "np.product(np.filter[5,0,5])"
   ]
  },
  {
   "cell_type": "code",
   "execution_count": 253,
   "metadata": {},
   "outputs": [
    {
     "name": "stdout",
     "output_type": "stream",
     "text": [
      "24\n"
     ]
    }
   ],
   "source": [
    "a = [1,0,6,0,4,0,0]\n",
    "print(np.prod([i for i in a if i!=0]))"
   ]
  },
  {
   "cell_type": "code",
   "execution_count": 254,
   "metadata": {},
   "outputs": [
    {
     "data": {
      "text/plain": [
       "dict_values([6, 2, 3])"
      ]
     },
     "execution_count": 254,
     "metadata": {},
     "output_type": "execute_result"
    }
   ],
   "source": [
    "need_cubes.values()"
   ]
  },
  {
   "cell_type": "code",
   "execution_count": 256,
   "metadata": {},
   "outputs": [
    {
     "data": {
      "text/plain": [
       "[6, 2, 3]"
      ]
     },
     "execution_count": 256,
     "metadata": {},
     "output_type": "execute_result"
    }
   ],
   "source": [
    "[i for i in list(need_cubes.values()) if i != 0]"
   ]
  },
  {
   "cell_type": "code",
   "execution_count": null,
   "metadata": {},
   "outputs": [],
   "source": []
  }
 ],
 "metadata": {
  "kernelspec": {
   "display_name": "aoc",
   "language": "python",
   "name": "python3"
  },
  "language_info": {
   "codemirror_mode": {
    "name": "ipython",
    "version": 3
   },
   "file_extension": ".py",
   "mimetype": "text/x-python",
   "name": "python",
   "nbconvert_exporter": "python",
   "pygments_lexer": "ipython3",
   "version": "3.11.3"
  }
 },
 "nbformat": 4,
 "nbformat_minor": 2
}
